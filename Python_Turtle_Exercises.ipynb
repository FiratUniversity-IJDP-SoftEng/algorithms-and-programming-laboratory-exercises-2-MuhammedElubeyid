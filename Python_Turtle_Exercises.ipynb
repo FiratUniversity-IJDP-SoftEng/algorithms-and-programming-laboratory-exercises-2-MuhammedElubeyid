{
  "cells": [
    {
      "cell_type": "markdown",
      "metadata": {
        "id": "ytbzyl3rnDRY"
      },
      "source": [
        "# Python Turtle Exercises\n",
        "\n",
        "This assignment aims to improve your algorithmic skills by drawing various geometric patterns using the Python Turtle library.  \n",
        "Each exercise includes a description and a code cell for your solutions.\n",
        "\n",
        "# Exercise 1: Drawing a Star\n",
        "## Description:\n",
        "Design an algorithm to draw a five-pointed star. Calculate the angle and line length correctly."
      ]
    },
    {
      "cell_type": "code",
      "execution_count": null,
      "metadata": {
        "id": "3uUSg4xJnUAw"
      },
      "outputs": [],
      "source": [
        "import turtle  \n",
        "wn = turtle.Screen()\n",
        "wn.bgcolor(\"blue\")\n",
        "wn.title(\"Star\")\n",
        "\n",
        "star = turtle.Turtle()\n",
        "star.color(\"green\")\n",
        "star.pensize(3)\n",
        "star.speed(2)\n",
        "\n",
        "for i in range(5):  \n",
        "    star.forward(100)  \n",
        "    star.right(144)    \n",
        "wn.mainloop()"
      ]
    },
    {
      "cell_type": "markdown",
      "metadata": {
        "id": "tGUI2TbgnZYu"
      },
      "source": [
        "# Exercise 2: Drawing a Spiral Square\n",
        "## Description:\n",
        "Design an algorithm to draw a spiral square with increasing side lengths. Consider how to change the turtle's turning angle and movement distance after each square."
      ]
    },
    {
      "cell_type": "code",
      "execution_count": null,
      "metadata": {
        "id": "UAinAy64neJ9"
      },
      "outputs": [],
      "source": [
        "import turtle  \n",
        "\n",
        "wn = turtle.Screen()\n",
        "\n",
        "spiral = turtle.Turtle()\n",
        "spiral.speed(0)  \n",
        "spiral.pensize(10)  \n",
        "\n",
        "len = 30    \n",
        "for i in range(100):  \n",
        "    spiral.forward(len)  \n",
        "    spiral.right(90)\n",
        "  #  spiral.forward(length)\n",
        "  #  spiral.right(90)         \n",
        "    len += 10          \n",
        "wn.mainloop()"
      ]
    },
    {
      "cell_type": "markdown",
      "metadata": {
        "id": "9u3aYlazngbx"
      },
      "source": [
        "# Exercise 3: Drawing Nested Polygons\n",
        "## Description:\n",
        "Design an algorithm to draw nested polygons with the same center and number of sides. Consider how to adjust the size of each polygon and position the turtle while drawing."
      ]
    },
    {
      "cell_type": "code",
      "execution_count": null,
      "metadata": {
        "id": "GvJ5VlvJnoDz"
      },
      "outputs": [],
      "source": [
        "import turtle\n",
        "\n",
        "wn = turtle.Screen()\n",
        "wn.bgcolor(\"blue\")\n",
        "wn.title(\"Nested Squares\")\n",
        "\n",
        "tess = turtle.Turtle()\n",
        "tess.color(\"green\")\n",
        "tess.pensize(3)\n",
        "tess.speed(0)\n",
        "\n",
        "size = 20  \n",
        "\n",
        "for _ in range(10):\n",
        "    tess.penup()\n",
        "    tess.goto(-size / 2, size / 2)  \n",
        "    tess.pendown()\n",
        "\n",
        "    for _ in range(4): \n",
        "        tess.forward(size)\n",
        "        tess.right(90)\n",
        "\n",
        "    size = size+  30\n",
        "\n",
        "wn.mainloop()"
      ]
    },
    {
      "cell_type": "markdown",
      "metadata": {
        "id": "w4S_F7XJnpYI"
      },
      "source": [
        "# Exercise 4: Drawing a Colorful Spiral\n",
        "## Description:\n",
        "Design an algorithm to draw a spiral using different colors. Consider how to change the color at each step and create the spiral shape."
      ]
    },
    {
      "cell_type": "code",
      "execution_count": null,
      "metadata": {
        "id": "e4KCcVxpnuUn"
      },
      "outputs": [],
      "source": [
        "import turtle\n",
        "wn = turtle.Screen()\n",
        "wn.bgcolor(\"lightgreen\")\n",
        "tess = turtle.Turtle()\n",
        "tess.shape(\"turtle\")\n",
        "tess.pensize(5)\n",
        "\n",
        "#tess.penup()                # This is new. Lifts the pen so the turtle moves without drawing.\n",
        "size = 20\n",
        "colors = [\n",
        "    \"red\", \"green\", \"blue\", \"yellow\", \"purple\", \"orange\", \"pink\", \"brown\", \n",
        "    \"black\", \"white\", \"gray\", \"cyan\", \"magenta\", \"violet\", \"turquoise\", \n",
        "    \"gold\", \"silver\", \"beige\", \"coral\", \"lime\", \"maroon\", \"navy\", \"teal\", \n",
        "    \"olive\", \"salmon\", \"sienna\", \"orchid\", \"khaki\", \"plum\", \"tomato\"\n",
        "]\n",
        "\n",
        "for i in range(40):\n",
        "  tess.color(colors[i % len(colors)])\n",
        " # tess.stamp()             # Leave an impression on the canvas\n",
        "  size = size + 3          # Increase the size on every iteration\n",
        "  tess.forward(size)       # Move tess along\n",
        "  tess.right(24)           #  ...  and turn her\n",
        "\n",
        "wn.mainloop()"
      ]
    },
    {
      "cell_type": "markdown",
      "metadata": {
        "id": "U4JZEptVn74m"
      },
      "source": [
        "# Exercise 5: Drawing a Random Pattern\n",
        "## Description:\n",
        "Design an algorithm to create an interesting pattern by randomly changing the turtle's movements and properties (color, thickness, etc.). Think about how to use randomness and vary different parameters."
      ]
    },
    {
      "cell_type": "code",
      "execution_count": null,
      "metadata": {
        "id": "4nk33NI8m9s1"
      },
      "outputs": [],
      "source": [
        "import turtle\n",
        "import random\n",
        "\n",
        "wn = turtle.Screen()\n",
        "wn.bgcolor(\"black\")\n",
        "\n",
        "tess = turtle.Turtle()\n",
        "tess.speed(7)\n",
        "\n",
        "colors = [\"red\", \"green\", \"blue\", \"yellow\", \"purple\", \"orange\", \"pink\", \"white\"]\n",
        "shapes = [\"turtle\", \"triangle\", \"square\", \"circle\", \"arrow\"]\n",
        "\n",
        "for _ in range(50):  \n",
        "    tess.color(random.choice(colors))\n",
        "    tess.shape(random.choice(shapes))  \n",
        "    tess.pensize(random.randint(1, 9))  \n",
        "    tess.forward(random.randint(20, 100))  \n",
        "    tess.right(random.randint(0, 360))  \n",
        "\n",
        "\n",
        "wn.mainloop()"
      ]
    }
  ],
  "metadata": {
    "accelerator": "GPU",
    "colab": {
      "gpuType": "T4",
      "provenance": []
    },
    "kernelspec": {
      "display_name": "tensorflow",
      "language": "python",
      "name": "python3"
    },
    "language_info": {
      "codemirror_mode": {
        "name": "ipython",
        "version": 3
      },
      "file_extension": ".py",
      "mimetype": "text/x-python",
      "name": "python",
      "nbconvert_exporter": "python",
      "pygments_lexer": "ipython3",
      "version": "3.10.12"
    }
  },
  "nbformat": 4,
  "nbformat_minor": 0
}
